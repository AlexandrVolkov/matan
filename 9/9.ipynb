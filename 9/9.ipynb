{
 "cells": [
  {
   "cell_type": "code",
   "execution_count": 2,
   "metadata": {},
   "outputs": [
    {
     "name": "stdout",
     "output_type": "stream",
     "text": [
      "1.2690263253996543 1.6632950152951846 1\n"
     ]
    }
   ],
   "source": [
    "from scipy.optimize import fsolve\n",
    "import math\n",
    "\n",
    "def equations(p):\n",
    "    x,y = p\n",
    "    first = pow(x,2) - pow(y,2) + 3*x*pow(y,3) - 2*pow(x,2)*pow(y,2) + 2*x -3*y - 5\n",
    "    second = 3*pow(y,3) - 2*y + 2*y*pow(x,3) - 5*pow(x,2)*pow(y,2) + 5\n",
    "    return (first, second)\n",
    "\n",
    "(x,y), info, ier, mesg = fsolve(equations, (10,10), full_output=True)\n",
    "print(x,y,ier)"
   ]
  },
  {
   "cell_type": "code",
   "execution_count": null,
   "metadata": {},
   "outputs": [],
   "source": []
  }
 ],
 "metadata": {
  "kernelspec": {
   "display_name": "Python 3",
   "language": "python",
   "name": "python3"
  },
  "language_info": {
   "codemirror_mode": {
    "name": "ipython",
    "version": 3
   },
   "file_extension": ".py",
   "mimetype": "text/x-python",
   "name": "python",
   "nbconvert_exporter": "python",
   "pygments_lexer": "ipython3",
   "version": "3.7.4"
  }
 },
 "nbformat": 4,
 "nbformat_minor": 2
}
